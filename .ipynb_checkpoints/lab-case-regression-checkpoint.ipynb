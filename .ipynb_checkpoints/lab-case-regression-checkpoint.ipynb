{
 "cells": [
  {
   "cell_type": "markdown",
   "id": "b811353f",
   "metadata": {},
   "source": [
    "# Instructions\n",
    "At this point, we have created a model to predict who will make a donation and who won't. \n",
    "But, what about the amount of money that each person will give? \n",
    "In this lab, subset those that made a donation and use that subset to create a model to predict how much money will they give.\n",
    "\n",
    "Evaluate the result of your model and estimate how much better the result is for the business in comparison with the naive scenario we discussed on Monday."
   ]
  },
  {
   "cell_type": "code",
   "execution_count": 1,
   "id": "12cbbd67",
   "metadata": {},
   "outputs": [],
   "source": [
    "import pandas as pd\n",
    "import numpy as np\n",
    "from sklearn.tree import DecisionTreeRegressor\n",
    "from sklearn.model_selection import cross_val_score\n",
    "from sklearn.model_selection import train_test_split\n",
    "from sklearn.utils import resample"
   ]
  },
  {
   "cell_type": "code",
   "execution_count": 13,
   "id": "de20b300",
   "metadata": {},
   "outputs": [],
   "source": [
    "categorical = pd.read_csv(r'C:\\Users\\renev\\lab-random-forests\\files_for_lab\\categorical.csv')\n",
    "numerical = pd.read_csv(r'C:\\Users\\renev\\lab-random-forests\\files_for_lab\\numerical.csv')\n",
    "target = pd.read_csv(r'C:\\Users\\renev\\lab-random-forests\\files_for_lab\\target.csv')\n"
   ]
  },
  {
   "cell_type": "code",
   "execution_count": 14,
   "id": "1481e69b",
   "metadata": {},
   "outputs": [],
   "source": [
    "combined = pd.concat([categorical, numerical, target], axis=1)"
   ]
  },
  {
   "cell_type": "code",
   "execution_count": 17,
   "id": "d87aff54",
   "metadata": {},
   "outputs": [
    {
     "name": "stdout",
     "output_type": "stream",
     "text": [
      "0    90569\n",
      "1     4843\n",
      "Name: TARGET_B, dtype: int64\n"
     ]
    }
   ],
   "source": [
    "print(target['TARGET_B'].value_counts())"
   ]
  },
  {
   "cell_type": "code",
   "execution_count": 18,
   "id": "ba12447e",
   "metadata": {},
   "outputs": [],
   "source": [
    "subset = combined[(combined['TARGET_B']==1)]"
   ]
  },
  {
   "cell_type": "code",
   "execution_count": 19,
   "id": "4ff36e77",
   "metadata": {},
   "outputs": [],
   "source": [
    "y = subset['TARGET_D']\n",
    "X = subset.drop(['TARGET_B','TARGET_D'], axis = 1)\n",
    "\n",
    "numericalX = X.select_dtypes(np.number).reset_index().drop(['index'],axis=1)\n",
    "categoricalX = X.select_dtypes(object)\n",
    "\n",
    "from sklearn.preprocessing import OneHotEncoder\n",
    "encoder = OneHotEncoder(drop='first').fit(categoricalX)\n",
    "encoded_categorical = encoder.transform(categoricalX).toarray()\n",
    "encoded_categorical = pd.DataFrame(encoded_categorical)\n",
    "X = pd.concat([numericalX, encoded_categorical], axis = 1)"
   ]
  },
  {
   "cell_type": "code",
   "execution_count": 20,
   "id": "8e058d2d",
   "metadata": {},
   "outputs": [],
   "source": [
    "from sklearn.model_selection import train_test_split\n",
    "X_train, X_test, y_train, y_test = train_test_split(X, y, test_size=0.2, random_state=0)"
   ]
  },
  {
   "cell_type": "code",
   "execution_count": 33,
   "id": "79979eee",
   "metadata": {},
   "outputs": [],
   "source": [
    "regr = DecisionTreeRegressor(max_depth=5)\n",
    "model = regr.fit(X_train, y_train)"
   ]
  },
  {
   "cell_type": "code",
   "execution_count": 34,
   "id": "26b0269c",
   "metadata": {},
   "outputs": [
    {
     "name": "stdout",
     "output_type": "stream",
     "text": [
      "test data accuracy was:  -0.0046262687751266185\n",
      "train data accuracy was:  0.7282771432626194\n"
     ]
    }
   ],
   "source": [
    "print(\"test data accuracy was: \",regr.score(X_test, y_test))\n",
    "print(\"train data accuracy was: \",regr.score(X_train, y_train))"
   ]
  },
  {
   "cell_type": "code",
   "execution_count": null,
   "id": "d6b0d8ce",
   "metadata": {},
   "outputs": [],
   "source": [
    "# With max_depth=5, model accuracy on test data is not good."
   ]
  },
  {
   "cell_type": "code",
   "execution_count": 41,
   "id": "7b35937b",
   "metadata": {},
   "outputs": [],
   "source": [
    "regr = DecisionTreeRegressor(max_depth=3)\n",
    "model = regr.fit(X_train, y_train)"
   ]
  },
  {
   "cell_type": "code",
   "execution_count": 42,
   "id": "cc710a8d",
   "metadata": {},
   "outputs": [
    {
     "name": "stdout",
     "output_type": "stream",
     "text": [
      "test data accuracy was:  0.41326971923573774\n",
      "train data accuracy was:  0.5858103454642349\n"
     ]
    }
   ],
   "source": [
    "print(\"test data accuracy was: \",regr.score(X_test, y_test))\n",
    "print(\"train data accuracy was: \",regr.score(X_train, y_train))"
   ]
  },
  {
   "cell_type": "code",
   "execution_count": null,
   "id": "b471b659",
   "metadata": {},
   "outputs": [],
   "source": [
    "# Model is better using max_depth=3"
   ]
  },
  {
   "cell_type": "code",
   "execution_count": 43,
   "id": "a30f5761",
   "metadata": {},
   "outputs": [
    {
     "name": "stdout",
     "output_type": "stream",
     "text": [
      "|--- LASTGIFT <= 20.25\n",
      "|   |--- LASTGIFT <= 13.05\n",
      "|   |   |--- AVGGIFT <= 6.79\n",
      "|   |   |   |--- value: [6.76]\n",
      "|   |   |--- AVGGIFT >  6.79\n",
      "|   |   |   |--- value: [11.53]\n",
      "|   |--- LASTGIFT >  13.05\n",
      "|   |   |--- LASTGIFT <= 15.50\n",
      "|   |   |   |--- value: [15.57]\n",
      "|   |   |--- LASTGIFT >  15.50\n",
      "|   |   |   |--- value: [18.90]\n",
      "|--- LASTGIFT >  20.25\n",
      "|   |--- LASTGIFT <= 95.00\n",
      "|   |   |--- AVGGIFT <= 27.26\n",
      "|   |   |   |--- value: [26.21]\n",
      "|   |   |--- AVGGIFT >  27.26\n",
      "|   |   |   |--- value: [44.19]\n",
      "|   |--- LASTGIFT >  95.00\n",
      "|   |   |--- HC13 <= 85.00\n",
      "|   |   |   |--- value: [74.06]\n",
      "|   |   |--- HC13 >  85.00\n",
      "|   |   |   |--- value: [200.00]\n",
      "\n"
     ]
    }
   ],
   "source": [
    "from sklearn.tree import export_text\n",
    "\n",
    "r = export_text(regr, feature_names= list(X.columns))\n",
    "print(r)"
   ]
  },
  {
   "cell_type": "code",
   "execution_count": null,
   "id": "dda81891",
   "metadata": {},
   "outputs": [],
   "source": [
    "# Trying different models"
   ]
  },
  {
   "cell_type": "code",
   "execution_count": 55,
   "id": "db304152",
   "metadata": {},
   "outputs": [],
   "source": [
    "from sklearn.preprocessing import StandardScaler\n",
    "scaler = StandardScaler().fit(numericalX)\n",
    "numericalX_std = pd.DataFrame(scaler.transform(numericalX))\n"
   ]
  },
  {
   "cell_type": "code",
   "execution_count": 56,
   "id": "58ba06e8",
   "metadata": {},
   "outputs": [],
   "source": [
    "X2 = pd.concat([numericalX_std, encoded_categorical], axis = 1)"
   ]
  },
  {
   "cell_type": "code",
   "execution_count": 57,
   "id": "5da34b86",
   "metadata": {},
   "outputs": [],
   "source": [
    "X2_train, X2_test, y_train, y_test = train_test_split(X2, y, test_size=0.2, random_state=0)"
   ]
  },
  {
   "cell_type": "code",
   "execution_count": 58,
   "id": "883558b5",
   "metadata": {},
   "outputs": [],
   "source": [
    "from sklearn import linear_model\n",
    "LR = linear_model.LinearRegression()"
   ]
  },
  {
   "cell_type": "code",
   "execution_count": null,
   "id": "3b60043a",
   "metadata": {},
   "outputs": [],
   "source": [
    "from sklearn.neighbors import KNeighborsRegressor\n",
    "KNN = KNeighborsRegressor(n_neighbors=5)"
   ]
  },
  {
   "cell_type": "code",
   "execution_count": 45,
   "id": "c7b3a668",
   "metadata": {},
   "outputs": [],
   "source": [
    "# Model scores before scaling:"
   ]
  },
  {
   "cell_type": "code",
   "execution_count": 48,
   "id": "b76d6852",
   "metadata": {},
   "outputs": [],
   "source": [
    "scores = []\n",
    "models = [LR, KNN, regr] # insert model acronym here\n",
    "for x in models:\n",
    "  x.fit(X_train,y_train)\n",
    "  scores.append(x.score(X_test, y_test)) "
   ]
  },
  {
   "cell_type": "code",
   "execution_count": 49,
   "id": "8cfc166d",
   "metadata": {},
   "outputs": [
    {
     "data": {
      "text/html": [
       "<div>\n",
       "<style scoped>\n",
       "    .dataframe tbody tr th:only-of-type {\n",
       "        vertical-align: middle;\n",
       "    }\n",
       "\n",
       "    .dataframe tbody tr th {\n",
       "        vertical-align: top;\n",
       "    }\n",
       "\n",
       "    .dataframe thead th {\n",
       "        text-align: right;\n",
       "    }\n",
       "</style>\n",
       "<table border=\"1\" class=\"dataframe\">\n",
       "  <thead>\n",
       "    <tr style=\"text-align: right;\">\n",
       "      <th></th>\n",
       "      <th>model</th>\n",
       "      <th>score</th>\n",
       "    </tr>\n",
       "  </thead>\n",
       "  <tbody>\n",
       "    <tr>\n",
       "      <th>0</th>\n",
       "      <td>LinearRegression()</td>\n",
       "      <td>0.289553</td>\n",
       "    </tr>\n",
       "    <tr>\n",
       "      <th>1</th>\n",
       "      <td>KNeighborsRegressor()</td>\n",
       "      <td>-0.142246</td>\n",
       "    </tr>\n",
       "    <tr>\n",
       "      <th>2</th>\n",
       "      <td>DecisionTreeRegressor(max_depth=3)</td>\n",
       "      <td>0.413270</td>\n",
       "    </tr>\n",
       "  </tbody>\n",
       "</table>\n",
       "</div>"
      ],
      "text/plain": [
       "                                model     score\n",
       "0                  LinearRegression()  0.289553\n",
       "1               KNeighborsRegressor() -0.142246\n",
       "2  DecisionTreeRegressor(max_depth=3)  0.413270"
      ]
     },
     "execution_count": 49,
     "metadata": {},
     "output_type": "execute_result"
    }
   ],
   "source": [
    "d = {'model':models,'score':scores}\n",
    "results = pd.DataFrame(d)\n",
    "results"
   ]
  },
  {
   "cell_type": "code",
   "execution_count": null,
   "id": "ee164622",
   "metadata": {},
   "outputs": [],
   "source": [
    "# Model scores after scaling:"
   ]
  },
  {
   "cell_type": "code",
   "execution_count": 59,
   "id": "593604d3",
   "metadata": {},
   "outputs": [],
   "source": [
    "scores = []\n",
    "models = [LR, KNN, regr] # insert model acronym here\n",
    "for x in models:\n",
    "  x.fit(X2_train,y_train)\n",
    "  scores.append(x.score(X2_test, y_test)) "
   ]
  },
  {
   "cell_type": "code",
   "execution_count": 60,
   "id": "1aa408d0",
   "metadata": {},
   "outputs": [
    {
     "data": {
      "text/html": [
       "<div>\n",
       "<style scoped>\n",
       "    .dataframe tbody tr th:only-of-type {\n",
       "        vertical-align: middle;\n",
       "    }\n",
       "\n",
       "    .dataframe tbody tr th {\n",
       "        vertical-align: top;\n",
       "    }\n",
       "\n",
       "    .dataframe thead th {\n",
       "        text-align: right;\n",
       "    }\n",
       "</style>\n",
       "<table border=\"1\" class=\"dataframe\">\n",
       "  <thead>\n",
       "    <tr style=\"text-align: right;\">\n",
       "      <th></th>\n",
       "      <th>model</th>\n",
       "      <th>score</th>\n",
       "    </tr>\n",
       "  </thead>\n",
       "  <tbody>\n",
       "    <tr>\n",
       "      <th>0</th>\n",
       "      <td>LinearRegression()</td>\n",
       "      <td>0.289553</td>\n",
       "    </tr>\n",
       "    <tr>\n",
       "      <th>1</th>\n",
       "      <td>KNeighborsRegressor()</td>\n",
       "      <td>0.040859</td>\n",
       "    </tr>\n",
       "    <tr>\n",
       "      <th>2</th>\n",
       "      <td>DecisionTreeRegressor(max_depth=3)</td>\n",
       "      <td>0.413270</td>\n",
       "    </tr>\n",
       "  </tbody>\n",
       "</table>\n",
       "</div>"
      ],
      "text/plain": [
       "                                model     score\n",
       "0                  LinearRegression()  0.289553\n",
       "1               KNeighborsRegressor()  0.040859\n",
       "2  DecisionTreeRegressor(max_depth=3)  0.413270"
      ]
     },
     "execution_count": 60,
     "metadata": {},
     "output_type": "execute_result"
    }
   ],
   "source": [
    "d2 = {'model':models,'score':scores}\n",
    "results = pd.DataFrame(d2)\n",
    "results"
   ]
  },
  {
   "cell_type": "code",
   "execution_count": null,
   "id": "1040913c",
   "metadata": {},
   "outputs": [],
   "source": [
    "# Conclusion:\n",
    "Better score achieved on KNN model after scaling.  However, the DecisionTreeRegressor still scores the highest."
   ]
  }
 ],
 "metadata": {
  "kernelspec": {
   "display_name": "Python 3",
   "language": "python",
   "name": "python3"
  },
  "language_info": {
   "codemirror_mode": {
    "name": "ipython",
    "version": 3
   },
   "file_extension": ".py",
   "mimetype": "text/x-python",
   "name": "python",
   "nbconvert_exporter": "python",
   "pygments_lexer": "ipython3",
   "version": "3.8.8"
  }
 },
 "nbformat": 4,
 "nbformat_minor": 5
}
